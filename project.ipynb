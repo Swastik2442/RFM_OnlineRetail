{
 "cells": [
  {
   "cell_type": "markdown",
   "metadata": {},
   "source": [
    "<div align=\"Center\">\n",
    "\n",
    "# JK Lakshmipat University\n",
    "## Institute of Engineering and Technology\n",
    "### Machine Learning (CS1138)\n",
    "#### Project - 1B\n",
    "#### RFM model-based Customer Segmentation using Clustering and Classification\n",
    "\n",
    "</div>\n",
    "<hr>"
   ]
  },
  {
   "cell_type": "markdown",
   "metadata": {},
   "source": [
    "#### Importing the Libraries"
   ]
  },
  {
   "cell_type": "code",
   "execution_count": null,
   "metadata": {},
   "outputs": [],
   "source": [
    "from calendar import month_abbr\n",
    "from datetime import datetime\n",
    "\n",
    "import numpy as np\n",
    "import pandas as pd\n",
    "import matplotlib.pyplot as plt\n",
    "\n",
    "import plotly.express as px\n",
    "import plotly.graph_objects as go\n",
    "import plotly.figure_factory as ff\n",
    "from plotly.subplots import make_subplots\n",
    "\n",
    "from sklearn.model_selection import train_test_split\n",
    "from sklearn.preprocessing import StandardScaler\n",
    "from sklearn.cluster import KMeans, MeanShift\n",
    "from sklearn.neighbors import KNeighborsClassifier\n",
    "from sklearn.manifold import TSNE\n",
    "from sklearn import metrics\n",
    "\n",
    "from scipy.cluster import hierarchy\n",
    "\n",
    "from lifetimes import BetaGeoFitter, GammaGammaFitter\n",
    "import lifetimes.utils as lfUtils\n",
    "import lifetimes.plotting as lfPlt"
   ]
  },
  {
   "cell_type": "markdown",
   "metadata": {},
   "source": [
    "<hr>\n",
    "\n",
    "### Data Configuration"
   ]
  },
  {
   "cell_type": "markdown",
   "metadata": {},
   "source": [
    "#### Importing the Data"
   ]
  },
  {
   "cell_type": "code",
   "execution_count": null,
   "metadata": {},
   "outputs": [],
   "source": [
    "df1 = pd.read_excel('online_retail_II.xlsx', sheet_name='Year 2009-2010')\n",
    "df2 = pd.read_excel('online_retail_II.xlsx', sheet_name='Year 2010-2011')\n",
    "df = pd.concat([df1, df2])"
   ]
  },
  {
   "cell_type": "markdown",
   "metadata": {},
   "source": [
    "#### Initial Dataset"
   ]
  },
  {
   "cell_type": "code",
   "execution_count": null,
   "metadata": {},
   "outputs": [],
   "source": [
    "df.head()"
   ]
  },
  {
   "cell_type": "code",
   "execution_count": null,
   "metadata": {},
   "outputs": [],
   "source": [
    "df.info()"
   ]
  },
  {
   "cell_type": "code",
   "execution_count": null,
   "metadata": {},
   "outputs": [],
   "source": [
    "df.describe()"
   ]
  },
  {
   "cell_type": "markdown",
   "metadata": {},
   "source": [
    "#### Imputing the Dataset"
   ]
  },
  {
   "cell_type": "code",
   "execution_count": null,
   "metadata": {},
   "outputs": [],
   "source": [
    "df.isnull().sum()"
   ]
  },
  {
   "cell_type": "markdown",
   "metadata": {},
   "source": [
    "- Description : Not Available\n",
    "- Customer ID : -1"
   ]
  },
  {
   "cell_type": "code",
   "execution_count": null,
   "metadata": {},
   "outputs": [],
   "source": [
    "df['Description'] = df['Description'].fillna('Not Available')\n",
    "df['Customer ID'] = df['Customer ID'].fillna(-1)"
   ]
  },
  {
   "cell_type": "code",
   "execution_count": null,
   "metadata": {},
   "outputs": [],
   "source": [
    "df.drop_duplicates(keep='first', inplace=True)"
   ]
  },
  {
   "cell_type": "markdown",
   "metadata": {},
   "source": [
    "#### Feature Engineering"
   ]
  },
  {
   "cell_type": "code",
   "execution_count": null,
   "metadata": {},
   "outputs": [],
   "source": [
    "df['Customer ID'] = df['Customer ID'].astype(int)\n",
    "df['TotalPrice'] = df['Price'] * df['Quantity']"
   ]
  },
  {
   "cell_type": "code",
   "execution_count": null,
   "metadata": {},
   "outputs": [],
   "source": [
    "df['Country'] = df['Country'].astype('category')\n",
    "df['Description'] = df['Description'].astype('category')\n",
    "df['StockCode'] = df['StockCode'].astype(str)"
   ]
  },
  {
   "cell_type": "code",
   "execution_count": null,
   "metadata": {},
   "outputs": [],
   "source": [
    "df[df['Price'] < 0]"
   ]
  },
  {
   "cell_type": "code",
   "execution_count": null,
   "metadata": {},
   "outputs": [],
   "source": [
    "df['Cancelled'] = df['Invoice'].astype(str).str.contains('C').astype(int)\n",
    "df['Bad Debt'] = df['Invoice'].astype(str).str.contains('A').astype(int)\n",
    "df['Invoice'] = df['Invoice'].astype(str).str.replace('[A-Z]', '', regex=True).astype(int)"
   ]
  },
  {
   "cell_type": "markdown",
   "metadata": {},
   "source": [
    "StockCode contains Codes for different Situations, so it Cannot be Converted to numerical."
   ]
  },
  {
   "cell_type": "code",
   "execution_count": null,
   "metadata": {},
   "outputs": [],
   "source": [
    "len(df['StockCode'].str.extractall(r\"([a-zA-Z]+)\").groupby(level=0).sum(numeric_only=False)[0].unique())"
   ]
  },
  {
   "cell_type": "markdown",
   "metadata": {},
   "source": [
    "#### Final Dataset"
   ]
  },
  {
   "cell_type": "code",
   "execution_count": null,
   "metadata": {},
   "outputs": [],
   "source": [
    "df.head()"
   ]
  },
  {
   "cell_type": "code",
   "execution_count": null,
   "metadata": {},
   "outputs": [],
   "source": [
    "df.info()"
   ]
  },
  {
   "cell_type": "code",
   "execution_count": null,
   "metadata": {},
   "outputs": [],
   "source": [
    "df.describe()"
   ]
  },
  {
   "cell_type": "markdown",
   "metadata": {},
   "source": [
    "#### Dataset with Valid Orders"
   ]
  },
  {
   "cell_type": "code",
   "execution_count": null,
   "metadata": {},
   "outputs": [],
   "source": [
    "df2 = df.drop(df[(df['Bad Debt'] == 1) | (df['Cancelled'] == 1) | (df['Description'] == 'Not Available') | (df['Customer ID'] == -1) | (df['Price'] == 0.0) | ~(df['StockCode'].str.isdigit())].index)\n",
    "df2.drop(['Bad Debt', 'Cancelled'], axis=1, inplace=True)"
   ]
  },
  {
   "cell_type": "code",
   "execution_count": null,
   "metadata": {},
   "outputs": [],
   "source": [
    "df2.describe()"
   ]
  },
  {
   "cell_type": "markdown",
   "metadata": {},
   "source": [
    "<hr>\n",
    "\n",
    "### Exploratory Data Analysis"
   ]
  },
  {
   "cell_type": "markdown",
   "metadata": {},
   "source": [
    "#### Top Selling Products"
   ]
  },
  {
   "cell_type": "code",
   "execution_count": null,
   "metadata": {},
   "outputs": [],
   "source": [
    "plotDF = df.groupby('Description', observed=True).size().sort_values(ascending=False).reset_index()\n",
    "plotDF.drop(plotDF[plotDF['Description'] == 'Not Available'].index, inplace=True)\n",
    "plotDF.columns = ['Description', 'Count']\n",
    "\n",
    "fig = px.bar(plotDF.head(20), x='Description', y='Count', title='Top Selling Products')\n",
    "fig.show()"
   ]
  },
  {
   "cell_type": "markdown",
   "metadata": {},
   "source": [
    "#### Most Expensive and Least Expensive Products"
   ]
  },
  {
   "cell_type": "code",
   "execution_count": null,
   "metadata": {},
   "outputs": [],
   "source": [
    "plotDF = df2[['Description', 'Price']]\n",
    "plotDF.sort_values(by='Price', ascending=False, inplace=True)\n",
    "plotDF.drop_duplicates(subset=['Description'], keep='first', inplace=True)\n",
    "plotDF.reset_index(drop=True, inplace=True)"
   ]
  },
  {
   "cell_type": "code",
   "execution_count": null,
   "metadata": {},
   "outputs": [],
   "source": [
    "fig = px.line(plotDF, x='Description', y='Price', title='Prices of Offered Products')\n",
    "fig.update_xaxes(showticklabels=False)\n",
    "fig.show()"
   ]
  },
  {
   "cell_type": "code",
   "execution_count": null,
   "metadata": {},
   "outputs": [],
   "source": [
    "fig = px.bar(plotDF.head(20), x='Description', y='Price', title='Most Expensive Products')\n",
    "fig.show()"
   ]
  },
  {
   "cell_type": "code",
   "execution_count": null,
   "metadata": {},
   "outputs": [],
   "source": [
    "fig = px.bar(plotDF.tail(20), x='Description', y='Price', title='Least Expensive Products')\n",
    "fig.show()"
   ]
  },
  {
   "cell_type": "markdown",
   "metadata": {},
   "source": [
    "#### Average Number of Orders per Customer"
   ]
  },
  {
   "cell_type": "code",
   "execution_count": null,
   "metadata": {},
   "outputs": [],
   "source": [
    "ordersPerCustomer = df2[['Invoice', 'Customer ID']].drop_duplicates()\n",
    "ordersPerCustomer = ordersPerCustomer.groupby(['Customer ID'], observed=True).count().reset_index().sort_values(by='Invoice', ascending=False).reset_index(drop=True)\n",
    "ordersPerCustomer.columns = ['Customer ID', 'Number of Orders']"
   ]
  },
  {
   "cell_type": "code",
   "execution_count": null,
   "metadata": {},
   "outputs": [],
   "source": [
    "print(f\"Average Orders per Customer: {ordersPerCustomer['Number of Orders'].mean()}\")"
   ]
  },
  {
   "cell_type": "code",
   "execution_count": null,
   "metadata": {},
   "outputs": [],
   "source": [
    "plotDF = ordersPerCustomer.head(20)\n",
    "\n",
    "fig = px.bar(plotDF, x=plotDF.index, y='Number of Orders', hover_data=['Customer ID'], title='Most Number of Orders per Customer')\n",
    "fig.update_xaxes(title='Customer Rank')\n",
    "fig.show()"
   ]
  },
  {
   "cell_type": "markdown",
   "metadata": {},
   "source": [
    "#### Average Number of Unique Items per Customer and per Order"
   ]
  },
  {
   "cell_type": "code",
   "execution_count": null,
   "metadata": {},
   "outputs": [],
   "source": [
    "itemsPerCustomer = df2[['Customer ID', 'Description']].drop_duplicates()\n",
    "itemsPerCustomer = itemsPerCustomer.groupby(['Customer ID'], observed=True).count().reset_index().sort_values(by='Description', ascending=False).reset_index(drop=True)\n",
    "itemsPerCustomer.columns = ['Customer ID', 'Number of Items']\n",
    "\n",
    "itemsPerOrder = df2[['Invoice', 'Description']].drop_duplicates()\n",
    "itemsPerOrder = itemsPerOrder.groupby(['Invoice'], observed=True).count().reset_index().sort_values(by='Description', ascending=False).reset_index(drop=True)\n",
    "itemsPerOrder.columns = ['Invoice Number', 'Number of Items']"
   ]
  },
  {
   "cell_type": "code",
   "execution_count": null,
   "metadata": {},
   "outputs": [],
   "source": [
    "print(f\"Average Number of Unique Items per Customer: {itemsPerCustomer['Number of Items'].mean()}\")\n",
    "print(f\"Average Number of Unique Items per Order: {itemsPerOrder['Number of Items'].mean()}\")"
   ]
  },
  {
   "cell_type": "code",
   "execution_count": null,
   "metadata": {},
   "outputs": [],
   "source": [
    "plotDF = itemsPerCustomer.head(20)\n",
    "\n",
    "fig = px.bar(plotDF, x=plotDF.index, y='Number of Items', hover_data=['Customer ID'], title='Most Number of Unique Items per Customer')\n",
    "fig.update_xaxes(title='Customer Rank')\n",
    "fig.show()"
   ]
  },
  {
   "cell_type": "code",
   "execution_count": null,
   "metadata": {},
   "outputs": [],
   "source": [
    "plotDF = itemsPerOrder.head(20)\n",
    "\n",
    "fig = px.bar(plotDF, x=plotDF.index, y='Number of Items', hover_data=['Invoice Number'], title='Most Number of Unique Items per Order')\n",
    "fig.update_xaxes(title='Order Rank')\n",
    "fig.show()"
   ]
  },
  {
   "cell_type": "markdown",
   "metadata": {},
   "source": [
    "#### Top Countries by Number of Customers and Number of Orders"
   ]
  },
  {
   "cell_type": "code",
   "execution_count": null,
   "metadata": {},
   "outputs": [],
   "source": [
    "plotDF = df.groupby('Country', observed=True).size().sort_values(ascending=False).reset_index()\n",
    "plotDF.columns = ['Country', 'Count']\n",
    "\n",
    "fig = px.bar(plotDF, x='Country', y='Count', title='Sales per Country')\n",
    "fig.show()"
   ]
  },
  {
   "cell_type": "code",
   "execution_count": null,
   "metadata": {},
   "outputs": [],
   "source": [
    "plotDF = df[['Country','Customer ID']].drop_duplicates()\n",
    "plotDF = plotDF.groupby(['Country'], observed=True)['Customer ID'].count().sort_values(ascending=False).reset_index()\n",
    "plotDF.columns = ['Country', 'Count']\n",
    "\n",
    "fig = px.bar(plotDF, x='Country', y='Count', title='Sales by Country per Customer')\n",
    "fig.show()"
   ]
  },
  {
   "cell_type": "code",
   "execution_count": null,
   "metadata": {},
   "outputs": [],
   "source": [
    "plotDF = df[['Country','Invoice']].drop_duplicates()\n",
    "plotDF = plotDF.groupby(['Country'], observed=True)['Invoice'].count().sort_values(ascending=False).reset_index()\n",
    "plotDF.columns = ['Country', 'Count']\n",
    "\n",
    "fig = px.bar(plotDF, x='Country', y='Count', title='Sales by Country per Order')\n",
    "fig.show()"
   ]
  },
  {
   "cell_type": "markdown",
   "metadata": {},
   "source": [
    "#### Total Sales per Month"
   ]
  },
  {
   "cell_type": "code",
   "execution_count": null,
   "metadata": {},
   "outputs": [],
   "source": [
    "plotDF = df2[['TotalPrice', 'InvoiceDate']]\n",
    "plotDF = plotDF.groupby([plotDF['InvoiceDate'].dt.year, plotDF['InvoiceDate'].dt.month], observed=True).agg({'TotalPrice': 'sum'})\n",
    "plotDF.reset_index(names=['Year', 'Month'], inplace=True)\n",
    "plotDF['Month-Year'] = pd.Series(month_abbr[i] for i in plotDF['Month']) + ' ' + plotDF['Year'].astype(str)\n",
    "plotDF.drop(['Year', 'Month'], axis=1, inplace=True)\n",
    "plotDF.columns = ['Total Sales', 'Month & Year']"
   ]
  },
  {
   "cell_type": "code",
   "execution_count": null,
   "metadata": {},
   "outputs": [],
   "source": [
    "fig = px.line(plotDF, x='Month & Year', y='Total Sales', title='Monthly Sales')\n",
    "fig.show()"
   ]
  },
  {
   "cell_type": "markdown",
   "metadata": {},
   "source": [
    "#### Cancelled Items Analysis"
   ]
  },
  {
   "cell_type": "code",
   "execution_count": null,
   "metadata": {},
   "outputs": [],
   "source": [
    "plotDF = df[df['Cancelled'] == 1][['TotalPrice', 'InvoiceDate']]\n",
    "plotDF = plotDF.groupby([plotDF['InvoiceDate'].dt.year, plotDF['InvoiceDate'].dt.month], observed=True).agg({'TotalPrice': ['sum', 'count']})\n",
    "plotDF.reset_index(names=['Year', 'Month'], inplace=True)\n",
    "plotDF['Month-Year'] = pd.Series(month_abbr[i] for i in plotDF['Month']) + ' ' + plotDF['Year'].astype(str)\n",
    "plotDF.columns = ['Year', 'Month', 'Cancellation Amount', 'Total Cancellations', 'Month & Year']\n",
    "plotDF.drop(['Year', 'Month'], axis=1, inplace=True)\n",
    "plotDF['Cancellation Amount'] = - plotDF['Cancellation Amount']"
   ]
  },
  {
   "cell_type": "code",
   "execution_count": null,
   "metadata": {},
   "outputs": [],
   "source": [
    "fig = px.line(plotDF, x='Month & Year', y='Total Cancellations', title='Monthly Cancellations', hover_data=['Cancellation Amount'])\n",
    "fig.show()"
   ]
  },
  {
   "cell_type": "markdown",
   "metadata": {},
   "source": [
    "<hr>\n",
    "\n",
    "## Methodologies"
   ]
  },
  {
   "cell_type": "markdown",
   "metadata": {},
   "source": [
    "<hr>\n",
    "\n",
    "### RFM Analysis"
   ]
  },
  {
   "cell_type": "markdown",
   "metadata": {},
   "source": [
    "#### Creating the RFM Table"
   ]
  },
  {
   "cell_type": "code",
   "execution_count": null,
   "metadata": {},
   "outputs": [],
   "source": [
    "today = datetime.date(df2['InvoiceDate'].max())\n",
    "print(f\"The Last Date in the Dataset: {today.strftime('%d %B %Y')}\")"
   ]
  },
  {
   "cell_type": "code",
   "execution_count": null,
   "metadata": {},
   "outputs": [],
   "source": [
    "df2['Date'] = df2['InvoiceDate'].dt.date\n",
    "recencyDF = df2[['Customer ID', 'Date']].drop_duplicates()\n",
    "recencyDF = recencyDF.groupby(['Customer ID'], observed=True)['Date'].max().reset_index()\n",
    "recencyDF.columns = ['Customer ID', 'Last Purchase Date']\n",
    "recencyDF['Recency'] = today - recencyDF['Last Purchase Date']\n",
    "recencyDF['Recency'] = recencyDF['Recency'].astype('timedelta64[ns]').astype('int64') // 86400000000000"
   ]
  },
  {
   "cell_type": "code",
   "execution_count": null,
   "metadata": {},
   "outputs": [],
   "source": [
    "frequencyDF = df2[['Customer ID', 'Invoice']].drop_duplicates()\n",
    "frequencyDF = frequencyDF.groupby(['Customer ID'], observed=True)['Invoice'].count().reset_index()\n",
    "frequencyDF.columns = ['Customer ID', 'Frequency']"
   ]
  },
  {
   "cell_type": "code",
   "execution_count": null,
   "metadata": {},
   "outputs": [],
   "source": [
    "monetaryDF = df2[['Customer ID', 'TotalPrice']]\n",
    "monetaryDF = monetaryDF.groupby(['Customer ID'], observed=True)['TotalPrice'].sum().reset_index()\n",
    "monetaryDF.columns = ['Customer ID', 'Monetary']"
   ]
  },
  {
   "cell_type": "code",
   "execution_count": null,
   "metadata": {},
   "outputs": [],
   "source": [
    "rfmDF = pd.merge(recencyDF, frequencyDF, on='Customer ID')\n",
    "rfmDF = pd.merge(rfmDF, monetaryDF, on='Customer ID')\n",
    "rfmDF.drop('Last Purchase Date', axis=1, inplace=True)\n",
    "rfmDF.set_index('Customer ID', inplace=True)\n",
    "\n",
    "rfmDF.head()"
   ]
  },
  {
   "cell_type": "markdown",
   "metadata": {},
   "source": [
    "#### Quantile Distribution"
   ]
  },
  {
   "cell_type": "code",
   "execution_count": null,
   "metadata": {},
   "outputs": [],
   "source": [
    "fig = make_subplots(rows=1, cols=3)\n",
    "fig.add_trace(go.Box(y=rfmDF['Recency'].values, name='Recency'), row=1, col=1)\n",
    "fig.add_trace(go.Box(y=rfmDF['Frequency'].values, name='Frequency'), row=1, col=2)\n",
    "fig.add_trace(go.Box(y=rfmDF['Monetary'].values, name='Monetary'), row=1, col=3)\n",
    "fig.update_layout(title_text=\"Box Plot of RFM Values\")\n",
    "fig.show()"
   ]
  },
  {
   "cell_type": "code",
   "execution_count": null,
   "metadata": {},
   "outputs": [],
   "source": [
    "def rScore(value: np.floating, category: str, quantiles: pd.DataFrame):\n",
    "    \"Decides a Customer's Score on the basis of Recency Value\"\n",
    "    if value <= quantiles[category][0.25]:\n",
    "        return 4\n",
    "    elif value <= quantiles[category][0.50]:\n",
    "        return 3\n",
    "    elif value <= quantiles[category][0.75]:\n",
    "        return 2\n",
    "    else:\n",
    "        return 1\n",
    "\n",
    "def fmScore(value: np.floating, category: str, quantiles: pd.DataFrame):\n",
    "    \"Decides a Customer's Score on the basis of Frequency/Monetary Value\"\n",
    "    if value <= quantiles[category][0.25]:\n",
    "        return 1\n",
    "    elif value <= quantiles[category][0.50]:\n",
    "        return 2\n",
    "    elif value <= quantiles[category][0.75]:\n",
    "        return 3\n",
    "    else:\n",
    "        return 4"
   ]
  },
  {
   "cell_type": "code",
   "execution_count": null,
   "metadata": {},
   "outputs": [],
   "source": [
    "rfmQuantiles = rfmDF[['Recency', 'Frequency', 'Monetary']].quantile(q=[0.25, 0.50, 0.75])\n",
    "rfmQuantiles"
   ]
  },
  {
   "cell_type": "code",
   "execution_count": null,
   "metadata": {},
   "outputs": [],
   "source": [
    "rfmSegmentation = rfmDF.copy()\n",
    "rfmSegmentation['R'] = rfmSegmentation['Recency'].apply(rScore, args=('Recency', rfmQuantiles))\n",
    "rfmSegmentation['F'] = rfmSegmentation['Frequency'].apply(fmScore, args=('Frequency', rfmQuantiles))\n",
    "rfmSegmentation['M'] = rfmSegmentation['Monetary'].apply(fmScore, args=('Monetary', rfmQuantiles))\n",
    "rfmSegmentation['RFM Score'] = rfmSegmentation['R'].astype(str) + rfmSegmentation['F'].astype(str) + rfmSegmentation['M'].astype(str)\n",
    "\n",
    "rfmSegmentation.head()"
   ]
  },
  {
   "cell_type": "markdown",
   "metadata": {},
   "source": [
    "#### Estimated Segmentation"
   ]
  },
  {
   "cell_type": "code",
   "execution_count": null,
   "metadata": {},
   "outputs": [],
   "source": [
    "def rfmClusters(data: pd.DataFrame, rCol: str, fCol: str, mCol: str, rfmCol: str):\n",
    "    \"\"\"Segments the RFM Data into Clusters namely,\n",
    "\n",
    "    Best Customers, Worst Customers, Newest/Most Loyal Customeres, Frequent Buyers, Big Spenders, and Others.\"\"\"\n",
    "\n",
    "    bestCustomers = data[data[rfmCol] == '444']\n",
    "    worstCustomers = data[data[rfmCol] == '111']\n",
    "    loyalCustomers = data[data[rCol] == 4]\n",
    "    frequentBuyers = data[data[fCol] == 4]\n",
    "    bigSpenders = data[data[mCol] == 4]\n",
    "\n",
    "    others = data[(data[rfmCol] != '444') & (data[rfmCol] != '111') & (data[rCol] != 4) & (data[fCol] != 4) & (data[mCol] != 4)]\n",
    "\n",
    "    return {\n",
    "        'Best Customers': bestCustomers,\n",
    "        'Worst Customers': worstCustomers,\n",
    "        'Newest/Most Loyal Customers': loyalCustomers,\n",
    "        'Frequent Buyers': frequentBuyers,\n",
    "        'Big Spendors': bigSpenders,\n",
    "        'Others': others\n",
    "    }"
   ]
  },
  {
   "cell_type": "code",
   "execution_count": null,
   "metadata": {},
   "outputs": [],
   "source": [
    "segments = rfmClusters(rfmSegmentation, 'R', 'F', 'M', 'RFM Score')\n",
    "\n",
    "for segment in segments:\n",
    "    print(f\"{segment}: {segments[segment].shape[0]}\")"
   ]
  },
  {
   "cell_type": "code",
   "execution_count": null,
   "metadata": {},
   "outputs": [],
   "source": [
    "fig = px.pie(names=segments.keys(), values=[segments[segment].shape[0] for segment in segments], title='RFM Estimated Segmentation')\n",
    "fig.show()"
   ]
  },
  {
   "cell_type": "markdown",
   "metadata": {},
   "source": [
    "#### Standardization"
   ]
  },
  {
   "cell_type": "code",
   "execution_count": null,
   "metadata": {},
   "outputs": [],
   "source": [
    "scaler = StandardScaler()\n",
    "rfmScaled = scaler.fit_transform(rfmDF[['Recency', 'Frequency', 'Monetary']])\n",
    "rfmScaled = pd.DataFrame(rfmScaled)\n",
    "rfmScaled.columns = ['Recency', 'Frequency', 'Monetary']\n",
    "rfmScaled.index = rfmDF.index\n",
    "rfmScaled.head()"
   ]
  },
  {
   "cell_type": "markdown",
   "metadata": {},
   "source": [
    "#### Normalization"
   ]
  },
  {
   "cell_type": "code",
   "execution_count": null,
   "metadata": {},
   "outputs": [],
   "source": [
    "fig = px.imshow(rfmScaled.corr(), title='Correlation Matrix of RFM Values')\n",
    "fig.show()"
   ]
  },
  {
   "cell_type": "code",
   "execution_count": null,
   "metadata": {},
   "outputs": [],
   "source": [
    "fig = ff.create_scatterplotmatrix(rfmScaled, diag='histogram', height=500, width=1200, title='Scatter Matrix before Normalization')\n",
    "fig.show()"
   ]
  },
  {
   "cell_type": "code",
   "execution_count": null,
   "metadata": {},
   "outputs": [],
   "source": [
    "rfmNorm = pd.DataFrame({\n",
    "    'Log Recency': np.log(rfmDF['Recency']+0.01),\n",
    "    'Log Frequency': np.log(rfmDF['Frequency']),\n",
    "    'Log Monetary': np.log(rfmDF['Monetary'])\n",
    "})\n",
    "rfmNorm.head()"
   ]
  },
  {
   "cell_type": "code",
   "execution_count": null,
   "metadata": {},
   "outputs": [],
   "source": [
    "fig = px.imshow(rfmNorm.corr(), title='Correlation Matrix of Normalized RFM Values')\n",
    "fig.show()"
   ]
  },
  {
   "cell_type": "code",
   "execution_count": null,
   "metadata": {},
   "outputs": [],
   "source": [
    "fig = ff.create_scatterplotmatrix(rfmNorm, diag='histogram', height=500, width=1200, title='Scatter Matrix after Normalization')\n",
    "fig.show()"
   ]
  },
  {
   "cell_type": "markdown",
   "metadata": {},
   "source": [
    "<hr>\n",
    "\n",
    "### k-Means Clustering"
   ]
  },
  {
   "cell_type": "markdown",
   "metadata": {},
   "source": [
    "#### Selecting $k$"
   ]
  },
  {
   "cell_type": "code",
   "execution_count": null,
   "metadata": {},
   "outputs": [],
   "source": [
    "kmcData = rfmNorm.to_numpy()\n",
    "kRange = list(range(2, 11))\n",
    "kData = list()\n",
    "\n",
    "for i in kRange:\n",
    "    model = KMeans(n_clusters=i, random_state=42)\n",
    "    model.fit(kmcData)\n",
    "    kData.append((model, model.inertia_/kmcData.shape[0], metrics.silhouette_score(kmcData, model.labels_), metrics.davies_bouldin_score(kmcData, model.labels_)))"
   ]
  },
  {
   "cell_type": "code",
   "execution_count": null,
   "metadata": {},
   "outputs": [],
   "source": [
    "fig = make_subplots(rows=1, cols=3, subplot_titles=['Elbow Curve', 'Silhouette Scores', 'Davies Bouldin Scores'], x_title='Number of Clusters')\n",
    "fig.add_trace(go.Scatter(x=kRange, y=[i[1] for i in kData], name='Elbow Curve'), row=1, col=1)\n",
    "fig.add_trace(go.Scatter(x=kRange, y=[i[2] for i in kData], name='Silhouette Scores'), row=1, col=2)\n",
    "fig.add_trace(go.Scatter(x=kRange, y=[i[3] for i in kData], name='Davies Bouldin Scores'), row=1, col=3)\n",
    "fig.update_layout(title_text='Evaluating the Number of Clusters for k-Means Clustering', yaxis_title='Distortion', yaxis2_title='Silhouette Score')\n",
    "fig.show()"
   ]
  },
  {
   "cell_type": "markdown",
   "metadata": {},
   "source": [
    "#### Applying the Model"
   ]
  },
  {
   "cell_type": "code",
   "execution_count": null,
   "metadata": {},
   "outputs": [],
   "source": [
    "kmcModel = kData[3] # 5 Clusters\n",
    "rfmDF['Cluster kMC'] = kmcModel[0].labels_.astype(str)\n",
    "rfmDF.head()"
   ]
  },
  {
   "cell_type": "code",
   "execution_count": null,
   "metadata": {},
   "outputs": [],
   "source": [
    "fig = px.scatter_3d(rfmDF, x='Recency', y='Frequency', z='Monetary', color='Cluster kMC', symbol='Cluster kMC', opacity=0.5, title='RFM-based k-Means Clusters')\n",
    "fig.show()"
   ]
  },
  {
   "cell_type": "markdown",
   "metadata": {},
   "source": [
    "<hr>\n",
    "\n",
    "### Hierarchical Clustering"
   ]
  },
  {
   "cell_type": "markdown",
   "metadata": {},
   "source": [
    "#### Average Linkage"
   ]
  },
  {
   "cell_type": "code",
   "execution_count": null,
   "metadata": {},
   "outputs": [],
   "source": [
    "hcMergings = hierarchy.linkage(rfmScaled, method='average', metric='minkowski')"
   ]
  },
  {
   "cell_type": "code",
   "execution_count": null,
   "metadata": {},
   "outputs": [],
   "source": [
    "# # Only Use when Necessary\n",
    "# fig = ff.create_dendrogram(hcMergings)\n",
    "# fig.show('browser')"
   ]
  },
  {
   "cell_type": "markdown",
   "metadata": {},
   "source": [
    "#### Creating Clusters"
   ]
  },
  {
   "cell_type": "code",
   "execution_count": null,
   "metadata": {},
   "outputs": [],
   "source": [
    "hcLabels = hierarchy.cut_tree(hcMergings, 5).reshape(-1,)\n",
    "rfmDF['Cluster HC'] = hcLabels.astype(str)\n",
    "rfmDF.head()"
   ]
  },
  {
   "cell_type": "code",
   "execution_count": null,
   "metadata": {},
   "outputs": [],
   "source": [
    "fig = px.scatter_3d(rfmDF, x='Recency', y='Frequency', z='Monetary', color='Cluster HC', symbol='Cluster HC', opacity=0.5, title='RFM-based Hierarchical Clusters')\n",
    "fig.show()"
   ]
  },
  {
   "cell_type": "markdown",
   "metadata": {},
   "source": [
    "<hr>\n",
    "\n",
    "### Improving Hierarchical Clusters"
   ]
  },
  {
   "cell_type": "markdown",
   "metadata": {},
   "source": [
    "#### Using t-SNE"
   ]
  },
  {
   "cell_type": "code",
   "execution_count": null,
   "metadata": {},
   "outputs": [],
   "source": [
    "hcData = rfmScaled.to_numpy()\n",
    "hcData_embedded = TSNE(metric='minkowski', init='random').fit_transform(hcData)"
   ]
  },
  {
   "cell_type": "code",
   "execution_count": null,
   "metadata": {},
   "outputs": [],
   "source": [
    "hcData_embedded"
   ]
  },
  {
   "cell_type": "markdown",
   "metadata": {},
   "source": [
    "#### Applying the Model"
   ]
  },
  {
   "cell_type": "code",
   "execution_count": null,
   "metadata": {},
   "outputs": [],
   "source": [
    "hcMergings = hierarchy.linkage(hcData_embedded, method='average', metric='minkowski')"
   ]
  },
  {
   "cell_type": "code",
   "execution_count": null,
   "metadata": {},
   "outputs": [],
   "source": [
    "# # Only Use when Necessary\n",
    "# fig = ff.create_dendrogram(hcMergings)\n",
    "# fig.show('browser')"
   ]
  },
  {
   "cell_type": "code",
   "execution_count": null,
   "metadata": {},
   "outputs": [],
   "source": [
    "hcLabels = hierarchy.cut_tree(hcMergings, 5).reshape(-1,)\n",
    "rfmDF['Cluster HC2'] = hcLabels.astype(str)\n",
    "rfmDF.head()"
   ]
  },
  {
   "cell_type": "markdown",
   "metadata": {},
   "source": [
    "#### Testing the Model"
   ]
  },
  {
   "cell_type": "code",
   "execution_count": null,
   "metadata": {},
   "outputs": [],
   "source": [
    "rfmDF['Cluster HC'].value_counts()"
   ]
  },
  {
   "cell_type": "code",
   "execution_count": null,
   "metadata": {},
   "outputs": [],
   "source": [
    "rfmDF['Cluster HC2'].value_counts()"
   ]
  },
  {
   "cell_type": "code",
   "execution_count": null,
   "metadata": {},
   "outputs": [],
   "source": [
    "fig = px.scatter_3d(rfmDF, x='Recency', y='Frequency', z='Monetary', color='Cluster HC2', symbol='Cluster HC2', opacity=0.5, title='New Hierarchical Clusters')\n",
    "fig.show()"
   ]
  },
  {
   "cell_type": "markdown",
   "metadata": {},
   "source": [
    "<hr>\n",
    "\n",
    "### k-NN Classification"
   ]
  },
  {
   "cell_type": "markdown",
   "metadata": {},
   "source": [
    "#### Spliting Data into Train, Test and Validate"
   ]
  },
  {
   "cell_type": "code",
   "execution_count": null,
   "metadata": {},
   "outputs": [],
   "source": [
    "knnDf = rfmScaled.copy()\n",
    "knnDf['Cluster'] = rfmDF['Cluster HC2'].astype(int)"
   ]
  },
  {
   "cell_type": "code",
   "execution_count": null,
   "metadata": {},
   "outputs": [],
   "source": [
    "knnTrain, knnTest = train_test_split(knnDf, test_size=0.2, random_state=1)\n",
    "knnTrain, knnValidate = train_test_split(knnTrain, test_size=0.2, random_state=1)"
   ]
  },
  {
   "cell_type": "code",
   "execution_count": null,
   "metadata": {},
   "outputs": [],
   "source": [
    "print(f\"The Data was split as follows-\\nTrain: {knnTrain.shape[0]}, Validate: {knnValidate.shape[0]}, Test: {knnTest.shape[0]}\")"
   ]
  },
  {
   "cell_type": "code",
   "execution_count": null,
   "metadata": {},
   "outputs": [],
   "source": [
    "X_train = knnTrain.drop('Cluster', axis=1)\n",
    "y_train = knnTrain['Cluster']\n",
    "X_validate = knnValidate.drop('Cluster', axis=1)\n",
    "y_validate = knnValidate['Cluster']\n",
    "X_test = knnTest.drop('Cluster', axis=1)\n",
    "y_test = knnTest['Cluster']"
   ]
  },
  {
   "cell_type": "markdown",
   "metadata": {},
   "source": [
    "#### Selecting $k$"
   ]
  },
  {
   "cell_type": "code",
   "execution_count": null,
   "metadata": {},
   "outputs": [],
   "source": [
    "trainAccuracy = list()\n",
    "validateAccuracy = list()\n",
    "\n",
    "neighbours = tuple(range(1, 21))\n",
    "\n",
    "for k in neighbours:\n",
    "    model = KNeighborsClassifier(n_neighbors=k)\n",
    "    model.fit(X_train, y_train)\n",
    "    trainAccuracy.append(model.score(X_train, y_train))\n",
    "    validateAccuracy.append(model.score(X_validate, y_validate))"
   ]
  },
  {
   "cell_type": "code",
   "execution_count": null,
   "metadata": {},
   "outputs": [],
   "source": [
    "fig = go.Figure()\n",
    "fig.add_trace(go.Scatter(x=neighbours, y=trainAccuracy, name='Train Accuracy'))\n",
    "fig.add_trace(go.Scatter(x=neighbours, y=validateAccuracy, name='Validate Accuracy'))\n",
    "fig.update_layout(title_text='Cross-Fold Validation for k-NN', xaxis_title='Number of Neighbours', yaxis_title='Accuracy')\n",
    "fig.show()"
   ]
  },
  {
   "cell_type": "markdown",
   "metadata": {},
   "source": [
    "#### Applying the Model"
   ]
  },
  {
   "cell_type": "code",
   "execution_count": null,
   "metadata": {},
   "outputs": [],
   "source": [
    "knn = KNeighborsClassifier(n_neighbors=14)\n",
    "knn.fit(X_train, y_train)\n",
    "knn.fit(X_validate, y_validate)"
   ]
  },
  {
   "cell_type": "markdown",
   "metadata": {},
   "source": [
    "#### Testing the Model"
   ]
  },
  {
   "cell_type": "code",
   "execution_count": null,
   "metadata": {},
   "outputs": [],
   "source": [
    "y_pred = knn.predict(X_test)"
   ]
  },
  {
   "cell_type": "code",
   "execution_count": null,
   "metadata": {},
   "outputs": [],
   "source": [
    "fig = px.imshow(metrics.confusion_matrix(y_test, y_pred), title='Confusion Matrix for k-NN Classification')\n",
    "fig.show()"
   ]
  },
  {
   "cell_type": "code",
   "execution_count": null,
   "metadata": {},
   "outputs": [],
   "source": [
    "print(metrics.classification_report(y_test, y_pred))"
   ]
  },
  {
   "cell_type": "markdown",
   "metadata": {},
   "source": [
    "<hr>\n",
    "\n",
    "### Mean-Shift Clustering"
   ]
  },
  {
   "cell_type": "markdown",
   "metadata": {},
   "source": [
    "#### Applying the Model"
   ]
  },
  {
   "cell_type": "code",
   "execution_count": null,
   "metadata": {},
   "outputs": [],
   "source": [
    "msc = MeanShift()\n",
    "msc.fit(kmcData)"
   ]
  },
  {
   "cell_type": "code",
   "execution_count": null,
   "metadata": {},
   "outputs": [],
   "source": [
    "rfmDF['Cluster MSC'] = msc.labels_.astype(str)\n",
    "rfmDF.head()"
   ]
  },
  {
   "cell_type": "code",
   "execution_count": null,
   "metadata": {},
   "outputs": [],
   "source": [
    "fig = px.scatter_3d(rfmDF, x='Recency', y='Frequency', z='Monetary', color='Cluster MSC', symbol='Cluster MSC', opacity=0.5, title='Mean-Shift Clusters')\n",
    "fig.show()"
   ]
  },
  {
   "cell_type": "markdown",
   "metadata": {},
   "source": [
    "<hr>\n",
    "\n",
    "### Improving Mean-Shift Clusters"
   ]
  },
  {
   "cell_type": "markdown",
   "metadata": {},
   "source": [
    "#### Using t-SNE"
   ]
  },
  {
   "cell_type": "code",
   "execution_count": null,
   "metadata": {},
   "outputs": [],
   "source": [
    "mscData = rfmNorm.to_numpy()\n",
    "mscData_embedded = TSNE(metric='minkowski', init='random').fit_transform(mscData)"
   ]
  },
  {
   "cell_type": "code",
   "execution_count": null,
   "metadata": {},
   "outputs": [],
   "source": [
    "mscData_embedded"
   ]
  },
  {
   "cell_type": "markdown",
   "metadata": {},
   "source": [
    "#### Applying The Model"
   ]
  },
  {
   "cell_type": "code",
   "execution_count": null,
   "metadata": {},
   "outputs": [],
   "source": [
    "msc = MeanShift()\n",
    "msc.fit(mscData_embedded)"
   ]
  },
  {
   "cell_type": "code",
   "execution_count": null,
   "metadata": {},
   "outputs": [],
   "source": [
    "rfmDF['Cluster MSC2'] = msc.labels_.astype(str)\n",
    "rfmDF.head()"
   ]
  },
  {
   "cell_type": "markdown",
   "metadata": {},
   "source": [
    "#### Testing the Model"
   ]
  },
  {
   "cell_type": "code",
   "execution_count": null,
   "metadata": {},
   "outputs": [],
   "source": [
    "rfmDF['Cluster MSC'].value_counts()"
   ]
  },
  {
   "cell_type": "code",
   "execution_count": null,
   "metadata": {},
   "outputs": [],
   "source": [
    "rfmDF['Cluster MSC2'].value_counts()"
   ]
  },
  {
   "cell_type": "code",
   "execution_count": null,
   "metadata": {},
   "outputs": [],
   "source": [
    "fig = px.scatter_3d(rfmDF, x='Recency', y='Frequency', z='Monetary', color='Cluster MSC', symbol='Cluster MSC2', opacity=0.5, title='Mean-Shift Clusters')\n",
    "fig.show()"
   ]
  },
  {
   "cell_type": "markdown",
   "metadata": {},
   "source": [
    "Failed Successfully"
   ]
  },
  {
   "cell_type": "markdown",
   "metadata": {},
   "source": [
    "<hr>\n",
    "\n",
    "### BG/NBD CLV Modelling\n",
    "Beta-Geometric/Negative Binomial Distribution Customer Lifetime Value Modelling"
   ]
  },
  {
   "cell_type": "markdown",
   "metadata": {},
   "source": [
    "#### Fitting the Model"
   ]
  },
  {
   "cell_type": "code",
   "execution_count": null,
   "metadata": {},
   "outputs": [],
   "source": [
    "clvDF = df2[['Customer ID', 'TotalPrice', 'InvoiceDate']]\n",
    "clvDF = lfUtils.summary_data_from_transaction_data(clvDF, 'Customer ID', 'InvoiceDate', monetary_value_col='TotalPrice', observation_period_end=today)\n",
    "clvDF.columns = ['Frequency', 'Recency', 'Age', 'Monetary']\n",
    "clvDF.head()"
   ]
  },
  {
   "cell_type": "code",
   "execution_count": null,
   "metadata": {},
   "outputs": [],
   "source": [
    "bgf = BetaGeoFitter(penalizer_coef=0.0)\n",
    "bgf.fit(clvDF['Frequency'], clvDF['Recency'], clvDF['Age'])\n",
    "bgf.summary"
   ]
  },
  {
   "cell_type": "markdown",
   "metadata": {},
   "source": [
    "#### Checking the Model Fit"
   ]
  },
  {
   "cell_type": "code",
   "execution_count": null,
   "metadata": {},
   "outputs": [],
   "source": [
    "calibAndHoldoutDF = lfUtils.calibration_and_holdout_data(df2, 'Customer ID', 'InvoiceDate', calibration_period_end='2011-06-08', observation_period_end=today)\n",
    "calibAndHoldoutDF.head()"
   ]
  },
  {
   "cell_type": "code",
   "execution_count": null,
   "metadata": {},
   "outputs": [],
   "source": [
    "bgf.fit(calibAndHoldoutDF['frequency_cal'], calibAndHoldoutDF['recency_cal'], calibAndHoldoutDF['T_cal'])\n",
    "\n",
    "lfPlt.plot_calibration_purchases_vs_holdout_purchases(bgf, calibAndHoldoutDF, figsize=(10, 6))\n",
    "plt.show()"
   ]
  },
  {
   "cell_type": "markdown",
   "metadata": {},
   "source": [
    "#### Model Metrics"
   ]
  },
  {
   "cell_type": "code",
   "execution_count": null,
   "metadata": {},
   "outputs": [],
   "source": [
    "plt.figure(figsize=(10, 6))\n",
    "lfPlt.plot_frequency_recency_matrix(bgf)\n",
    "plt.show()"
   ]
  },
  {
   "cell_type": "code",
   "execution_count": null,
   "metadata": {},
   "outputs": [],
   "source": [
    "plt.figure(figsize=(10, 6))\n",
    "lfPlt.plot_probability_alive_matrix(bgf)\n",
    "plt.show()"
   ]
  },
  {
   "cell_type": "code",
   "execution_count": null,
   "metadata": {},
   "outputs": [],
   "source": [
    "clvDF['Predicted Purchases'] = bgf.conditional_expected_number_of_purchases_up_to_time(1, clvDF['Frequency'], clvDF['Recency'], clvDF['Age'])\n",
    "sortedByProb = clvDF.sort_values(by='Predicted Purchases', ascending=False)\n",
    "sortedByProb.head()"
   ]
  },
  {
   "cell_type": "code",
   "execution_count": null,
   "metadata": {},
   "outputs": [],
   "source": [
    "lfPlt.plot_period_transactions(bgf, figsize=(10, 6))\n",
    "plt.show()"
   ]
  },
  {
   "cell_type": "markdown",
   "metadata": {},
   "source": [
    "#### Customer Probability History"
   ]
  },
  {
   "cell_type": "code",
   "execution_count": null,
   "metadata": {},
   "outputs": [],
   "source": [
    "bestTransactions = df2[df2['Customer ID'] == 12347] # sortedByProb.index[0] not used because of too much frequency\n",
    "\n",
    "# lfPlt.plot_history_alive(bgf, 730, bestTransactions, 'InvoiceDate') # Gives Error due to having InvoiceDate as a Column and not Index"
   ]
  },
  {
   "cell_type": "code",
   "execution_count": null,
   "metadata": {},
   "outputs": [],
   "source": [
    "path = [p[0] for p in lfUtils.calculate_alive_path(bgf, bestTransactions, 'InvoiceDate', 730, 'D')]\n",
    "path_dates = pd.date_range(start=min(bestTransactions['InvoiceDate']), periods=len(path), freq='D')\n",
    "\n",
    "customer_history = bestTransactions[['InvoiceDate']].copy()\n",
    "customer_history.index = pd.DatetimeIndex(customer_history['InvoiceDate'])\n",
    "\n",
    "customer_history['transactions'] = 1\n",
    "customer_history.drop('InvoiceDate', axis=1, inplace=True)\n",
    "customer_history = customer_history.resample('D').sum()\n",
    "\n",
    "payment_dates = customer_history[customer_history['transactions'] >= 1].index\n",
    "\n",
    "fig = px.line(x=path_dates, y=path, title='History of being Alive for Customer with ID 12347')\n",
    "for dt in payment_dates.values:\n",
    "    fig.add_vline(x=str(dt), line_dash='dash', line_color='red')\n",
    "fig.update_layout(\n",
    "    xaxis = dict(\n",
    "        title = 'Date',\n",
    "        range = [min(bestTransactions['InvoiceDate']), path_dates[-1]]\n",
    "    ),\n",
    "    yaxis = dict(\n",
    "        title = 'Probability of being Alive',\n",
    "        range = [0, 1.0],\n",
    "        tickmode = 'array',\n",
    "        tickvals = np.arange(0, 1.1, 0.1)\n",
    "    )\n",
    ")\n",
    "fig.show()"
   ]
  },
  {
   "cell_type": "markdown",
   "metadata": {},
   "source": [
    "<hr>\n",
    "\n",
    "### Gamma-Gamma CLV Modelling"
   ]
  },
  {
   "cell_type": "markdown",
   "metadata": {},
   "source": [
    "#### Fitting the Model"
   ]
  },
  {
   "cell_type": "code",
   "execution_count": null,
   "metadata": {},
   "outputs": [],
   "source": [
    "returningCustomersLV = clvDF[clvDF['Frequency'] > 0]\n",
    "returningCustomersLV.head()"
   ]
  },
  {
   "cell_type": "code",
   "execution_count": null,
   "metadata": {},
   "outputs": [],
   "source": [
    "returningCustomersLV[['Monetary', 'Frequency']].corr()"
   ]
  },
  {
   "cell_type": "code",
   "execution_count": null,
   "metadata": {},
   "outputs": [],
   "source": [
    "ggf = GammaGammaFitter(penalizer_coef = 0)\n",
    "ggf.fit(returningCustomersLV['Frequency'], returningCustomersLV['Monetary'])\n",
    "ggf.summary"
   ]
  },
  {
   "cell_type": "markdown",
   "metadata": {},
   "source": [
    "#### Average Profit Estimation"
   ]
  },
  {
   "cell_type": "code",
   "execution_count": null,
   "metadata": {},
   "outputs": [],
   "source": [
    "clvDF['Expected Avg Profit'] = ggf.conditional_expected_average_profit(clvDF['Frequency'], clvDF['Monetary'])\n",
    "clvDF.head()"
   ]
  },
  {
   "cell_type": "code",
   "execution_count": null,
   "metadata": {},
   "outputs": [],
   "source": [
    "print(f\"Expected Conditional Average Profit: {clvDF['Expected Avg Profit'].mean()}\\nAverage Profit: {clvDF[clvDF['Frequency'] > 0]['Monetary'].mean()}\")"
   ]
  },
  {
   "cell_type": "markdown",
   "metadata": {},
   "source": [
    "#### Customer Lifetime Value"
   ]
  },
  {
   "cell_type": "code",
   "execution_count": null,
   "metadata": {},
   "outputs": [],
   "source": [
    "bgf.fit(clvDF['Frequency'], clvDF['Recency'], clvDF['Age'])"
   ]
  },
  {
   "cell_type": "code",
   "execution_count": null,
   "metadata": {},
   "outputs": [],
   "source": [
    "clvDF['CLV'] = ggf.customer_lifetime_value(bgf, clvDF['Frequency'], clvDF['Recency'], clvDF['Age'], clvDF['Monetary'], time=12, discount_rate=0.01)\n",
    "clvDF.head()"
   ]
  },
  {
   "cell_type": "code",
   "execution_count": null,
   "metadata": {},
   "outputs": [],
   "source": [
    "plotDF = clvDF.sort_values(by='CLV', ascending=False).reset_index().head(20)\n",
    "fig = px.bar(plotDF, y='CLV', hover_data=['Customer ID', 'Recency', 'Frequency', 'Monetary', 'Age'], title='Top 20 Customers by CLV')\n",
    "fig.show()"
   ]
  },
  {
   "cell_type": "markdown",
   "metadata": {},
   "source": [
    "<hr>\n",
    "\n",
    "## Conclusion"
   ]
  },
  {
   "cell_type": "markdown",
   "metadata": {},
   "source": [
    "#### Data"
   ]
  },
  {
   "cell_type": "code",
   "execution_count": null,
   "metadata": {},
   "outputs": [],
   "source": [
    "conclusionDF = rfmDF.copy()\n",
    "conclusionDF['Age'] = clvDF['Age']\n",
    "conclusionDF['Predicted Purchases'] = clvDF['Predicted Purchases']\n",
    "conclusionDF['Expected Avg Profit'] = clvDF['Expected Avg Profit']\n",
    "conclusionDF['CLV'] = clvDF['CLV']"
   ]
  },
  {
   "cell_type": "code",
   "execution_count": null,
   "metadata": {},
   "outputs": [],
   "source": [
    "conclusionDF.sort_values(by='CLV', ascending=False)"
   ]
  },
  {
   "cell_type": "code",
   "execution_count": null,
   "metadata": {},
   "outputs": [],
   "source": [
    "conclusionDF.sort_values(by='Predicted Purchases', ascending=False)"
   ]
  },
  {
   "cell_type": "code",
   "execution_count": null,
   "metadata": {},
   "outputs": [],
   "source": [
    "conclusionDF.sort_values(by='Expected Avg Profit', ascending=False)"
   ]
  },
  {
   "cell_type": "markdown",
   "metadata": {},
   "source": [
    "#### Models' Metrics"
   ]
  },
  {
   "cell_type": "markdown",
   "metadata": {},
   "source": [
    "##### k-Means Clustering Model with $k=5$"
   ]
  },
  {
   "cell_type": "code",
   "execution_count": null,
   "metadata": {},
   "outputs": [],
   "source": [
    "kmcModel[0]"
   ]
  },
  {
   "cell_type": "code",
   "execution_count": null,
   "metadata": {},
   "outputs": [],
   "source": [
    "print(f\"Silhouette Score: {kmcModel[2]:.3f}\")\n",
    "print(f\"Davies-Bouldin Index: {kmcModel[3]:.3f}\")\n",
    "print(f\"Calinski-Harabasz Index: {metrics.calinski_harabasz_score(kmcData, kmcModel[0].labels_):.3f}\")"
   ]
  },
  {
   "cell_type": "markdown",
   "metadata": {},
   "source": [
    "##### Agglomerative Hierarchical Clustering Model with $k=5$"
   ]
  },
  {
   "cell_type": "code",
   "execution_count": null,
   "metadata": {},
   "outputs": [],
   "source": [
    "hcMergings"
   ]
  },
  {
   "cell_type": "code",
   "execution_count": null,
   "metadata": {},
   "outputs": [],
   "source": [
    "print(f\"Silhouette Score: {metrics.silhouette_score(hcData_embedded, hcLabels):.3f}\")\n",
    "print(f\"Davies-Bouldin Index: {metrics.davies_bouldin_score(hcData_embedded, hcLabels):.3f}\")\n",
    "print(f\"Calinski-Harabasz Index: {metrics.calinski_harabasz_score(hcData_embedded, hcLabels):.3f}\")"
   ]
  },
  {
   "cell_type": "markdown",
   "metadata": {},
   "source": [
    "##### k-NN Classification Model with $k=14$"
   ]
  },
  {
   "cell_type": "code",
   "execution_count": null,
   "metadata": {},
   "outputs": [],
   "source": [
    "knn"
   ]
  },
  {
   "cell_type": "code",
   "execution_count": null,
   "metadata": {},
   "outputs": [],
   "source": [
    "print(metrics.classification_report(y_test, y_pred))"
   ]
  },
  {
   "cell_type": "markdown",
   "metadata": {},
   "source": [
    "##### Mean-Shift Clustering Model"
   ]
  },
  {
   "cell_type": "code",
   "execution_count": null,
   "metadata": {},
   "outputs": [],
   "source": [
    "msc"
   ]
  },
  {
   "cell_type": "code",
   "execution_count": null,
   "metadata": {},
   "outputs": [],
   "source": [
    "print(f\"Silhouette Score: {metrics.silhouette_score(mscData_embedded, msc.labels_):.3f}\")\n",
    "print(f\"Davies-Bouldin Index: {metrics.davies_bouldin_score(mscData_embedded, msc.labels_):.3f}\")\n",
    "print(f\"Calinski-Harabasz Index: {metrics.calinski_harabasz_score(mscData_embedded, msc.labels_):.3f}\")"
   ]
  },
  {
   "cell_type": "markdown",
   "metadata": {},
   "source": [
    "##### BG/NBD and Gamma-Gamma Modelling"
   ]
  },
  {
   "cell_type": "code",
   "execution_count": null,
   "metadata": {},
   "outputs": [],
   "source": [
    "bgf"
   ]
  },
  {
   "cell_type": "code",
   "execution_count": null,
   "metadata": {},
   "outputs": [],
   "source": [
    "ggf"
   ]
  },
  {
   "cell_type": "markdown",
   "metadata": {},
   "source": [
    "#### Cluster Description"
   ]
  },
  {
   "cell_type": "code",
   "execution_count": null,
   "metadata": {},
   "outputs": [],
   "source": [
    "print(\"In k-Means Clustering, the RFM Values are as follows-\")\n",
    "for cls in conclusionDF['Cluster kMC'].value_counts().index:\n",
    "    myDF = conclusionDF[conclusionDF['Cluster kMC'] == cls][[\"Recency\", \"Frequency\", \"Monetary\", \"Age\"]]\n",
    "    print(f\"For Cluster {cls}:\\n{myDF.describe()}\\n\")"
   ]
  },
  {
   "cell_type": "code",
   "execution_count": null,
   "metadata": {},
   "outputs": [],
   "source": [
    "print(\"In Hierarchical Clustering, the RFM Values are as follows-\")\n",
    "for cls in conclusionDF['Cluster HC2'].value_counts().index:\n",
    "    myDF = conclusionDF[conclusionDF['Cluster HC2'] == cls][[\"Recency\", \"Frequency\", \"Monetary\", \"Age\"]]\n",
    "    print(f\"For Cluster {cls}:\\n{myDF.describe()}\\n\")"
   ]
  },
  {
   "cell_type": "code",
   "execution_count": null,
   "metadata": {},
   "outputs": [],
   "source": [
    "print(\"In Mean-Shift Clustering, the RFM Values are as follows-\")\n",
    "for cls in conclusionDF['Cluster MSC2'].value_counts().index:\n",
    "    myDF = conclusionDF[conclusionDF['Cluster MSC2'] == cls][[\"Recency\", \"Frequency\", \"Monetary\", \"Age\"]]\n",
    "    print(f\"For Cluster {cls}:\\n{myDF.describe()}\\n\")"
   ]
  },
  {
   "cell_type": "code",
   "execution_count": null,
   "metadata": {},
   "outputs": [],
   "source": [
    "fig = make_subplots(rows=1, cols=3, x_title='Clusters')\n",
    "fig.add_trace(go.Box(x=conclusionDF['Cluster kMC'], y=conclusionDF['Recency'], name='Recency'), row=1, col=1)\n",
    "fig.add_trace(go.Box(x=conclusionDF['Cluster kMC'], y=conclusionDF['Frequency'], name='Frequency'), row=1, col=2)\n",
    "fig.add_trace(go.Box(x=conclusionDF['Cluster kMC'], y=conclusionDF['Monetary'], name='Monetary'), row=1, col=3)\n",
    "fig.update_layout(title_text='k-Means Clusters as per Recency, Frequency and Monetary Values', yaxis_title='Recency', yaxis2_title='Frequency', yaxis3_title='Monetary')\n",
    "fig.show()"
   ]
  },
  {
   "cell_type": "code",
   "execution_count": null,
   "metadata": {},
   "outputs": [],
   "source": [
    "plotDF = conclusionDF.groupby('Cluster kMC').agg({'Monetary': ['count', 'sum']}).reset_index()\n",
    "\n",
    "fig = make_subplots(rows=1, cols=2, specs=[[{\"type\": \"pie\"}, {\"type\": \"pie\"}]])\n",
    "fig.add_trace(go.Pie(values=plotDF['Monetary']['count'], labels=plotDF['Cluster kMC'], name='No. of Customers'), row=1, col=1)\n",
    "fig.add_trace(go.Pie(values=plotDF['Monetary']['sum'], labels=plotDF['Cluster kMC'], name='Associated Sales'), row=1, col=2)\n",
    "fig.update_layout(title_text='Customer Segmentation and Associated Sales as per k-Means Clusters')\n",
    "fig.show()"
   ]
  },
  {
   "cell_type": "code",
   "execution_count": null,
   "metadata": {},
   "outputs": [],
   "source": [
    "fig = make_subplots(rows=1, cols=3, x_title='Clusters')\n",
    "fig.add_trace(go.Box(x=conclusionDF['Cluster HC2'], y=conclusionDF['Recency'], name='Recency'), row=1, col=1)\n",
    "fig.add_trace(go.Box(x=conclusionDF['Cluster HC2'], y=conclusionDF['Frequency'], name='Frequency'), row=1, col=2)\n",
    "fig.add_trace(go.Box(x=conclusionDF['Cluster HC2'], y=conclusionDF['Monetary'], name='Monetary'), row=1, col=3)\n",
    "fig.update_layout(title_text='New Hierarchical Clusters as per Recency, Frequency and Monetary Values', yaxis_title='Recency', yaxis2_title='Frequency', yaxis3_title='Monetary')\n",
    "fig.show()"
   ]
  },
  {
   "cell_type": "code",
   "execution_count": null,
   "metadata": {},
   "outputs": [],
   "source": [
    "plotDF = conclusionDF.groupby('Cluster HC2').agg({'Monetary': ['count', 'sum']}).reset_index()\n",
    "\n",
    "fig = make_subplots(rows=1, cols=2, specs=[[{\"type\": \"pie\"}, {\"type\": \"pie\"}]])\n",
    "fig.add_trace(go.Pie(values=plotDF['Monetary']['count'], labels=plotDF['Cluster HC2'], name='No. of Customers'), row=1, col=1)\n",
    "fig.add_trace(go.Pie(values=plotDF['Monetary']['sum'], labels=plotDF['Cluster HC2'], name='Associated Sales'), row=1, col=2)\n",
    "fig.update_layout(title_text='Customer Segmentation and Associated Sales as per k-Means Clusters')\n",
    "fig.show()"
   ]
  },
  {
   "cell_type": "code",
   "execution_count": null,
   "metadata": {},
   "outputs": [],
   "source": [
    "fig = make_subplots(rows=1, cols=3, x_title='Clusters')\n",
    "fig.add_trace(go.Box(x=conclusionDF['Cluster MSC2'], y=conclusionDF['Recency'], name='Recency'), row=1, col=1)\n",
    "fig.add_trace(go.Box(x=conclusionDF['Cluster MSC2'], y=conclusionDF['Frequency'], name='Frequency'), row=1, col=2)\n",
    "fig.add_trace(go.Box(x=conclusionDF['Cluster MSC2'], y=conclusionDF['Monetary'], name='Monetary'), row=1, col=3)\n",
    "fig.update_layout(title_text='New Mean-Shift Clusters as per Recency, Frequency and Monetary Values', yaxis_title='Recency', yaxis2_title='Frequency', yaxis3_title='Monetary')\n",
    "fig.show()"
   ]
  },
  {
   "cell_type": "code",
   "execution_count": null,
   "metadata": {},
   "outputs": [],
   "source": [
    "plotDF = conclusionDF.groupby('Cluster MSC2').agg({'Monetary': ['count', 'sum']}).reset_index()\n",
    "\n",
    "fig = make_subplots(rows=1, cols=2, specs=[[{\"type\": \"pie\"}, {\"type\": \"pie\"}]])\n",
    "fig.add_trace(go.Pie(values=plotDF['Monetary']['count'], labels=plotDF['Cluster MSC2'], name='No. of Customers'), row=1, col=1)\n",
    "fig.add_trace(go.Pie(values=plotDF['Monetary']['sum'], labels=plotDF['Cluster MSC2'], name='Associated Sales'), row=1, col=2)\n",
    "fig.update_layout(title_text='Customer Segmentation and Associated Sales as per k-Means Clusters')\n",
    "fig.show()"
   ]
  },
  {
   "cell_type": "markdown",
   "metadata": {},
   "source": [
    "<hr>"
   ]
  }
 ],
 "metadata": {
  "kernelspec": {
   "display_name": "Python 3",
   "language": "python",
   "name": "python3"
  },
  "language_info": {
   "codemirror_mode": {
    "name": "ipython",
    "version": 3
   },
   "file_extension": ".py",
   "mimetype": "text/x-python",
   "name": "python",
   "nbconvert_exporter": "python",
   "pygments_lexer": "ipython3",
   "version": "3.11.1"
  }
 },
 "nbformat": 4,
 "nbformat_minor": 2
}

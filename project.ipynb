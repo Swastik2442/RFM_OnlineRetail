{
 "cells": [
  {
   "cell_type": "markdown",
   "metadata": {},
   "source": [
    "<div align=\"Center\">\n",
    "\n",
    "# JK Lakshmipat University\n",
    "## Institute of Engineering and Technology\n",
    "### Machine Learning (CS1138)\n",
    "#### Project-I\n",
    "#### RFM model-based Customer Segmentation using Clustering and Classification\n",
    "\n",
    "</div>\n",
    "<hr>"
   ]
  },
  {
   "cell_type": "markdown",
   "metadata": {},
   "source": [
    "#### Importing the Libraries"
   ]
  },
  {
   "cell_type": "code",
   "execution_count": null,
   "metadata": {},
   "outputs": [],
   "source": [
    "from calendar import month_abbr\n",
    "from datetime import datetime\n",
    "\n",
    "import numpy as np\n",
    "import pandas as pd\n",
    "\n",
    "import plotly.express as px\n",
    "import plotly.graph_objects as go\n",
    "import plotly.figure_factory as ff\n",
    "from plotly.subplots import make_subplots\n",
    "\n",
    "from sklearn.model_selection import train_test_split\n",
    "from sklearn.metrics import silhouette_score\n",
    "from sklearn.preprocessing import StandardScaler\n",
    "from sklearn.cluster import KMeans\n",
    "\n",
    "from scipy.cluster import hierarchy"
   ]
  },
  {
   "cell_type": "markdown",
   "metadata": {},
   "source": [
    "<hr>\n",
    "\n",
    "### Data Configuration"
   ]
  },
  {
   "cell_type": "markdown",
   "metadata": {},
   "source": [
    "#### Importing the Data"
   ]
  },
  {
   "cell_type": "code",
   "execution_count": null,
   "metadata": {},
   "outputs": [],
   "source": [
    "df1 = pd.read_excel('online_retail_II.xlsx', sheet_name='Year 2009-2010')\n",
    "df2 = pd.read_excel('online_retail_II.xlsx', sheet_name='Year 2010-2011')\n",
    "df = pd.concat([df1, df2])"
   ]
  },
  {
   "cell_type": "markdown",
   "metadata": {},
   "source": [
    "#### Initial Dataset"
   ]
  },
  {
   "cell_type": "code",
   "execution_count": null,
   "metadata": {},
   "outputs": [],
   "source": [
    "df.head()"
   ]
  },
  {
   "cell_type": "code",
   "execution_count": null,
   "metadata": {},
   "outputs": [],
   "source": [
    "df.info()"
   ]
  },
  {
   "cell_type": "code",
   "execution_count": null,
   "metadata": {},
   "outputs": [],
   "source": [
    "df.describe()"
   ]
  },
  {
   "cell_type": "markdown",
   "metadata": {},
   "source": [
    "#### Imputing the Dataset"
   ]
  },
  {
   "cell_type": "code",
   "execution_count": null,
   "metadata": {},
   "outputs": [],
   "source": [
    "df.isnull().sum()"
   ]
  },
  {
   "cell_type": "markdown",
   "metadata": {},
   "source": [
    "- Description : Not Available\n",
    "- Customer ID : -1"
   ]
  },
  {
   "cell_type": "code",
   "execution_count": null,
   "metadata": {},
   "outputs": [],
   "source": [
    "df['Description'] = df['Description'].fillna('Not Available')\n",
    "df['Customer ID'] = df['Customer ID'].fillna(-1)"
   ]
  },
  {
   "cell_type": "code",
   "execution_count": null,
   "metadata": {},
   "outputs": [],
   "source": [
    "df.drop_duplicates(keep='first', inplace=True)"
   ]
  },
  {
   "cell_type": "markdown",
   "metadata": {},
   "source": [
    "#### Feature Engineering"
   ]
  },
  {
   "cell_type": "code",
   "execution_count": null,
   "metadata": {},
   "outputs": [],
   "source": [
    "df['Customer ID'] = df['Customer ID'].astype(int)\n",
    "df['TotalPrice'] = df['Price'] * df['Quantity']"
   ]
  },
  {
   "cell_type": "code",
   "execution_count": null,
   "metadata": {},
   "outputs": [],
   "source": [
    "df['Country'] = df['Country'].astype('category')\n",
    "df['Description'] = df['Description'].astype('category')\n",
    "df['StockCode'] = df['StockCode'].astype(str)"
   ]
  },
  {
   "cell_type": "code",
   "execution_count": null,
   "metadata": {},
   "outputs": [],
   "source": [
    "df[df['Price'] < 0]"
   ]
  },
  {
   "cell_type": "code",
   "execution_count": null,
   "metadata": {},
   "outputs": [],
   "source": [
    "df['Cancelled'] = df['Invoice'].astype(str).str.contains('C').astype(int)\n",
    "df['Bad Debt'] = df['Invoice'].astype(str).str.contains('A').astype(int)\n",
    "df['Invoice'] = df['Invoice'].astype(str).str.replace('[A-Z]', '', regex=True).astype(int)"
   ]
  },
  {
   "cell_type": "markdown",
   "metadata": {},
   "source": [
    "StockCode contains Codes for different Situations, so it Cannot be Converted to numerical."
   ]
  },
  {
   "cell_type": "code",
   "execution_count": null,
   "metadata": {},
   "outputs": [],
   "source": [
    "len(df['StockCode'].str.extractall(r\"([a-zA-Z]+)\").groupby(level=0).sum(numeric_only=False)[0].unique())"
   ]
  },
  {
   "cell_type": "markdown",
   "metadata": {},
   "source": [
    "#### Final Dataset"
   ]
  },
  {
   "cell_type": "code",
   "execution_count": null,
   "metadata": {},
   "outputs": [],
   "source": [
    "df.head()"
   ]
  },
  {
   "cell_type": "code",
   "execution_count": null,
   "metadata": {},
   "outputs": [],
   "source": [
    "df.info()"
   ]
  },
  {
   "cell_type": "code",
   "execution_count": null,
   "metadata": {},
   "outputs": [],
   "source": [
    "df.describe()"
   ]
  },
  {
   "cell_type": "markdown",
   "metadata": {},
   "source": [
    "#### Dataset with Valid Orders"
   ]
  },
  {
   "cell_type": "code",
   "execution_count": null,
   "metadata": {},
   "outputs": [],
   "source": [
    "df2 = df.drop(df[(df['Bad Debt'] == 1) | (df['Cancelled'] == 1) | (df['Description'] == 'Not Available') | (df['Customer ID'] == -1) | (df['Price'] == 0.0) | ~(df['StockCode'].str.isdigit())].index)\n",
    "df2.drop(['Bad Debt', 'Cancelled'], axis=1, inplace=True)"
   ]
  },
  {
   "cell_type": "code",
   "execution_count": null,
   "metadata": {},
   "outputs": [],
   "source": [
    "df2.describe()"
   ]
  },
  {
   "cell_type": "markdown",
   "metadata": {},
   "source": [
    "<hr>\n",
    "\n",
    "### Exploratory Data Analysis"
   ]
  },
  {
   "cell_type": "markdown",
   "metadata": {},
   "source": [
    "#### Top Selling Products"
   ]
  },
  {
   "cell_type": "code",
   "execution_count": null,
   "metadata": {},
   "outputs": [],
   "source": [
    "plotDF = df.groupby('Description', observed=True).size().sort_values(ascending=False).reset_index()\n",
    "plotDF.drop(plotDF[plotDF['Description'] == 'Not Available'].index, inplace=True)\n",
    "plotDF.columns = ['Description', 'Count']\n",
    "\n",
    "fig = px.bar(plotDF.head(20), x='Description', y='Count', title='Top Selling Products')\n",
    "fig.show()"
   ]
  },
  {
   "cell_type": "markdown",
   "metadata": {},
   "source": [
    "#### Most Expensive and Least Expensive Products"
   ]
  },
  {
   "cell_type": "code",
   "execution_count": null,
   "metadata": {},
   "outputs": [],
   "source": [
    "plotDF = df2[['Description', 'Price']]\n",
    "plotDF.sort_values(by='Price', ascending=False, inplace=True)\n",
    "plotDF.drop_duplicates(subset=['Description'], keep='first', inplace=True)\n",
    "plotDF.reset_index(drop=True, inplace=True)"
   ]
  },
  {
   "cell_type": "code",
   "execution_count": null,
   "metadata": {},
   "outputs": [],
   "source": [
    "fig = px.line(plotDF, x='Description', y='Price', title='Prices of Offered Products')\n",
    "fig.update_xaxes(showticklabels=False)\n",
    "fig.show()"
   ]
  },
  {
   "cell_type": "code",
   "execution_count": null,
   "metadata": {},
   "outputs": [],
   "source": [
    "fig = px.bar(plotDF.head(20), x='Description', y='Price', title='Most Expensive Products')\n",
    "fig.show()"
   ]
  },
  {
   "cell_type": "code",
   "execution_count": null,
   "metadata": {},
   "outputs": [],
   "source": [
    "fig = px.bar(plotDF.tail(20), x='Description', y='Price', title='Least Expensive Products')\n",
    "fig.show()"
   ]
  },
  {
   "cell_type": "markdown",
   "metadata": {},
   "source": [
    "#### Average Number of Orders per Customer"
   ]
  },
  {
   "cell_type": "code",
   "execution_count": null,
   "metadata": {},
   "outputs": [],
   "source": [
    "ordersPerCustomer = df2[['Invoice', 'Customer ID']].drop_duplicates()\n",
    "ordersPerCustomer = ordersPerCustomer.groupby(['Customer ID'], observed=True).count().reset_index().sort_values(by='Invoice', ascending=False).reset_index(drop=True)\n",
    "ordersPerCustomer.columns = ['Customer ID', 'Number of Orders']"
   ]
  },
  {
   "cell_type": "code",
   "execution_count": null,
   "metadata": {},
   "outputs": [],
   "source": [
    "print(f\"Average Orders per Customer: {ordersPerCustomer['Number of Orders'].mean()}\")"
   ]
  },
  {
   "cell_type": "code",
   "execution_count": null,
   "metadata": {},
   "outputs": [],
   "source": [
    "plotDF = ordersPerCustomer.head(20)\n",
    "\n",
    "fig = px.bar(plotDF, x=plotDF.index, y='Number of Orders', hover_data=['Customer ID'], title='Most Number of Orders per Customer')\n",
    "fig.update_xaxes(title='Customer Rank')\n",
    "fig.show()"
   ]
  },
  {
   "cell_type": "markdown",
   "metadata": {},
   "source": [
    "#### Average Number of Unique Items per Customer and per Order"
   ]
  },
  {
   "cell_type": "code",
   "execution_count": null,
   "metadata": {},
   "outputs": [],
   "source": [
    "itemsPerCustomer = df2[['Customer ID', 'Description']].drop_duplicates()\n",
    "itemsPerCustomer = itemsPerCustomer.groupby(['Customer ID'], observed=True).count().reset_index().sort_values(by='Description', ascending=False).reset_index(drop=True)\n",
    "itemsPerCustomer.columns = ['Customer ID', 'Number of Items']\n",
    "\n",
    "itemsPerOrder = df2[['Invoice', 'Description']].drop_duplicates()\n",
    "itemsPerOrder = itemsPerOrder.groupby(['Invoice'], observed=True).count().reset_index().sort_values(by='Description', ascending=False).reset_index(drop=True)\n",
    "itemsPerOrder.columns = ['Invoice Number', 'Number of Items']"
   ]
  },
  {
   "cell_type": "code",
   "execution_count": null,
   "metadata": {},
   "outputs": [],
   "source": [
    "print(f\"Average Number of Unique Items per Customer: {itemsPerCustomer['Number of Items'].mean()}\")\n",
    "print(f\"Average Number of Unique Items per Order: {itemsPerOrder['Number of Items'].mean()}\")"
   ]
  },
  {
   "cell_type": "code",
   "execution_count": null,
   "metadata": {},
   "outputs": [],
   "source": [
    "plotDF = itemsPerCustomer.head(20)\n",
    "\n",
    "fig = px.bar(plotDF, x=plotDF.index, y='Number of Items', hover_data=['Customer ID'], title='Most Number of Unique Items per Customer')\n",
    "fig.update_xaxes(title='Customer Rank')\n",
    "fig.show()"
   ]
  },
  {
   "cell_type": "code",
   "execution_count": null,
   "metadata": {},
   "outputs": [],
   "source": [
    "plotDF = itemsPerOrder.head(20)\n",
    "\n",
    "fig = px.bar(plotDF, x=plotDF.index, y='Number of Items', hover_data=['Invoice Number'], title='Most Number of Unique Items per Order')\n",
    "fig.update_xaxes(title='Order Rank')\n",
    "fig.show()"
   ]
  },
  {
   "cell_type": "markdown",
   "metadata": {},
   "source": [
    "#### Top Countries by Number of Customers and Number of Orders"
   ]
  },
  {
   "cell_type": "code",
   "execution_count": null,
   "metadata": {},
   "outputs": [],
   "source": [
    "plotDF = df.groupby('Country', observed=True).size().sort_values(ascending=False).reset_index()\n",
    "plotDF.columns = ['Country', 'Count']\n",
    "\n",
    "fig = px.bar(plotDF, x='Country', y='Count', title='Sales per Country')\n",
    "fig.show()"
   ]
  },
  {
   "cell_type": "code",
   "execution_count": null,
   "metadata": {},
   "outputs": [],
   "source": [
    "plotDF = df[['Country','Customer ID']].drop_duplicates()\n",
    "plotDF = plotDF.groupby(['Country'], observed=True)['Customer ID'].count().sort_values(ascending=False).reset_index()\n",
    "plotDF.columns = ['Country', 'Count']\n",
    "\n",
    "fig = px.bar(plotDF, x='Country', y='Count', title='Sales by Country per Customer')\n",
    "fig.show()"
   ]
  },
  {
   "cell_type": "code",
   "execution_count": null,
   "metadata": {},
   "outputs": [],
   "source": [
    "plotDF = df[['Country','Invoice']].drop_duplicates()\n",
    "plotDF = plotDF.groupby(['Country'], observed=True)['Invoice'].count().sort_values(ascending=False).reset_index()\n",
    "plotDF.columns = ['Country', 'Count']\n",
    "\n",
    "fig = px.bar(plotDF, x='Country', y='Count', title='Sales by Country per Order')\n",
    "fig.show()"
   ]
  },
  {
   "cell_type": "markdown",
   "metadata": {},
   "source": [
    "#### Total Sales per Month"
   ]
  },
  {
   "cell_type": "code",
   "execution_count": null,
   "metadata": {},
   "outputs": [],
   "source": [
    "plotDF = df2[['TotalPrice', 'InvoiceDate']]\n",
    "plotDF = plotDF.groupby([plotDF['InvoiceDate'].dt.year, plotDF['InvoiceDate'].dt.month], observed=True).agg({'TotalPrice': 'sum'})\n",
    "plotDF.reset_index(names=['Year', 'Month'], inplace=True)\n",
    "plotDF['Month-Year'] = pd.Series(month_abbr[i] for i in plotDF['Month']) + ' ' + plotDF['Year'].astype(str)\n",
    "plotDF.drop(['Year', 'Month'], axis=1, inplace=True)\n",
    "plotDF.columns = ['Total Sales', 'Month & Year']"
   ]
  },
  {
   "cell_type": "code",
   "execution_count": null,
   "metadata": {},
   "outputs": [],
   "source": [
    "fig = px.line(plotDF, x='Month & Year', y='Total Sales', title='Monthly Sales')\n",
    "fig.show()"
   ]
  },
  {
   "cell_type": "markdown",
   "metadata": {},
   "source": [
    "#### Cancelled Items Analysis"
   ]
  },
  {
   "cell_type": "code",
   "execution_count": null,
   "metadata": {},
   "outputs": [],
   "source": [
    "plotDF = df[df['Cancelled'] == 1][['TotalPrice', 'InvoiceDate']]\n",
    "plotDF = plotDF.groupby([plotDF['InvoiceDate'].dt.year, plotDF['InvoiceDate'].dt.month], observed=True).agg({'TotalPrice': ['sum', 'count']})\n",
    "plotDF.reset_index(names=['Year', 'Month'], inplace=True)\n",
    "plotDF['Month-Year'] = pd.Series(month_abbr[i] for i in plotDF['Month']) + ' ' + plotDF['Year'].astype(str)\n",
    "plotDF.columns = ['Year', 'Month', 'Cancellation Amount', 'Total Cancellations', 'Month & Year']\n",
    "plotDF.drop(['Year', 'Month'], axis=1, inplace=True)\n",
    "plotDF['Cancellation Amount'] = - plotDF['Cancellation Amount']"
   ]
  },
  {
   "cell_type": "code",
   "execution_count": null,
   "metadata": {},
   "outputs": [],
   "source": [
    "fig = px.line(plotDF, x='Month & Year', y='Total Cancellations', title='Monthly Cancellations', hover_data=['Cancellation Amount'])\n",
    "fig.show()"
   ]
  },
  {
   "cell_type": "markdown",
   "metadata": {},
   "source": [
    "<hr>\n",
    "\n",
    "## Machine Learning"
   ]
  },
  {
   "cell_type": "markdown",
   "metadata": {},
   "source": [
    "#### Spliting Data into Train, Test and Validate"
   ]
  },
  {
   "cell_type": "code",
   "execution_count": null,
   "metadata": {},
   "outputs": [],
   "source": [
    "dfShuffled = df.sample(frac=1, random_state=42)"
   ]
  },
  {
   "cell_type": "code",
   "execution_count": null,
   "metadata": {},
   "outputs": [],
   "source": [
    "dfTrain, dfTest = train_test_split(dfShuffled, test_size=0.2, random_state=1)\n",
    "\n",
    "dfTrain, dfValidate = train_test_split(dfTrain, test_size=0.2, random_state=1)"
   ]
  },
  {
   "cell_type": "markdown",
   "metadata": {},
   "source": [
    "<hr>\n",
    "\n",
    "### RFM Analysis"
   ]
  },
  {
   "cell_type": "markdown",
   "metadata": {},
   "source": [
    "#### Creating the RFM Table"
   ]
  },
  {
   "cell_type": "code",
   "execution_count": null,
   "metadata": {},
   "outputs": [],
   "source": [
    "today = datetime.date(df2['InvoiceDate'].max())\n",
    "print(f\"The Last Date in the Dataset: {today.strftime('%d %B %Y')}\")"
   ]
  },
  {
   "cell_type": "code",
   "execution_count": null,
   "metadata": {},
   "outputs": [],
   "source": [
    "df2['Date'] = df2['InvoiceDate'].dt.date\n",
    "recencyDF = df2[['Customer ID', 'Date']].drop_duplicates()\n",
    "recencyDF = recencyDF.groupby(['Customer ID'], observed=True)['Date'].max().reset_index()\n",
    "recencyDF.columns = ['Customer ID', 'Last Purchase Date']\n",
    "recencyDF['Recency'] = today - recencyDF['Last Purchase Date']\n",
    "recencyDF['Recency'] = recencyDF['Recency'].astype('timedelta64[ns]').astype('int64') // 86400000000000"
   ]
  },
  {
   "cell_type": "code",
   "execution_count": null,
   "metadata": {},
   "outputs": [],
   "source": [
    "frequencyDF = df2[['Customer ID', 'Invoice']].drop_duplicates()\n",
    "frequencyDF = frequencyDF.groupby(['Customer ID'], observed=True)['Invoice'].count().reset_index()\n",
    "frequencyDF.columns = ['Customer ID', 'Frequency']"
   ]
  },
  {
   "cell_type": "code",
   "execution_count": null,
   "metadata": {},
   "outputs": [],
   "source": [
    "monetaryDF = df2[['Customer ID', 'TotalPrice']]\n",
    "monetaryDF = monetaryDF.groupby(['Customer ID'], observed=True)['TotalPrice'].sum().reset_index()\n",
    "monetaryDF.columns = ['Customer ID', 'Monetary']"
   ]
  },
  {
   "cell_type": "code",
   "execution_count": null,
   "metadata": {},
   "outputs": [],
   "source": [
    "rfmDF = pd.merge(recencyDF, frequencyDF, on='Customer ID')\n",
    "rfmDF = pd.merge(rfmDF, monetaryDF, on='Customer ID')\n",
    "rfmDF.drop('Last Purchase Date', axis=1, inplace=True)\n",
    "rfmDF.set_index('Customer ID', inplace=True)\n",
    "\n",
    "rfmDF.head()"
   ]
  },
  {
   "cell_type": "markdown",
   "metadata": {},
   "source": [
    "#### Quantile Distribution"
   ]
  },
  {
   "cell_type": "code",
   "execution_count": null,
   "metadata": {},
   "outputs": [],
   "source": [
    "fig = make_subplots(rows=1, cols=3)\n",
    "fig.add_trace(go.Box(y=rfmDF['Recency'].values, name='Recency'), row=1, col=1)\n",
    "fig.add_trace(go.Box(y=rfmDF['Frequency'].values, name='Frequency'), row=1, col=2)\n",
    "fig.add_trace(go.Box(y=rfmDF['Monetary'].values, name='Monetary'), row=1, col=3)\n",
    "fig.update_layout(title_text=\"Box Plot of RFM Values\")\n",
    "fig.show()"
   ]
  },
  {
   "cell_type": "code",
   "execution_count": null,
   "metadata": {},
   "outputs": [],
   "source": [
    "def rScore(value: np.floating, category: str, quantiles: pd.DataFrame):\n",
    "    \"Decides a Customer's Score on the basis of Recency Value\"\n",
    "    if value <= quantiles[category][0.25]:\n",
    "        return 4\n",
    "    elif value <= quantiles[category][0.50]:\n",
    "        return 3\n",
    "    elif value <= quantiles[category][0.75]:\n",
    "        return 2\n",
    "    else:\n",
    "        return 1\n",
    "\n",
    "def fmScore(value: np.floating, category: str, quantiles: pd.DataFrame):\n",
    "    \"Decides a Customer's Score on the basis of Frequency/Monetary Value\"\n",
    "    if value <= quantiles[category][0.25]:\n",
    "        return 1\n",
    "    elif value <= quantiles[category][0.50]:\n",
    "        return 2\n",
    "    elif value <= quantiles[category][0.75]:\n",
    "        return 3\n",
    "    else:\n",
    "        return 4"
   ]
  },
  {
   "cell_type": "code",
   "execution_count": null,
   "metadata": {},
   "outputs": [],
   "source": [
    "rfmQuantiles = rfmDF[['Recency', 'Frequency', 'Monetary']].quantile(q=[0.25, 0.50, 0.75])\n",
    "rfmQuantiles"
   ]
  },
  {
   "cell_type": "code",
   "execution_count": null,
   "metadata": {},
   "outputs": [],
   "source": [
    "rfmSegmentation = rfmDF.copy()\n",
    "rfmSegmentation['R'] = rfmSegmentation['Recency'].apply(rScore, args=('Recency', rfmQuantiles))\n",
    "rfmSegmentation['F'] = rfmSegmentation['Frequency'].apply(fmScore, args=('Frequency', rfmQuantiles))\n",
    "rfmSegmentation['M'] = rfmSegmentation['Monetary'].apply(fmScore, args=('Monetary', rfmQuantiles))\n",
    "rfmSegmentation['RFM Score'] = rfmSegmentation['R'].astype(str) + rfmSegmentation['F'].astype(str) + rfmSegmentation['M'].astype(str)\n",
    "\n",
    "rfmSegmentation.head()"
   ]
  },
  {
   "cell_type": "markdown",
   "metadata": {},
   "source": [
    "#### Estimated Segmentation"
   ]
  },
  {
   "cell_type": "code",
   "execution_count": null,
   "metadata": {},
   "outputs": [],
   "source": [
    "def rfmClusters(data: pd.DataFrame, rCol: str, fCol: str, mCol: str, rfmCol: str):\n",
    "    \"\"\"Segments the RFM Data into Clusters namely,\n",
    "\n",
    "    Best Customers, Worst Customers, Newest/Most Loyal Customeres, Frequent Buyers, Big Spenders, and Others.\"\"\"\n",
    "\n",
    "    bestCustomers = data[data[rfmCol] == '444']\n",
    "    worstCustomers = data[data[rfmCol] == '111']\n",
    "    loyalCustomers = data[data[rCol] == 4]\n",
    "    frequentBuyers = data[data[fCol] == 4]\n",
    "    bigSpenders = data[data[mCol] == 4]\n",
    "\n",
    "    others = data[(data[rfmCol] != '444') & (data[rfmCol] != '111') & (data[rCol] != 4) & (data[fCol] != 4) & (data[mCol] != 4)]\n",
    "\n",
    "    return {\n",
    "        'Best Customers': bestCustomers,\n",
    "        'Worst Customers': worstCustomers,\n",
    "        'Newest/Most Loyal Customers': loyalCustomers,\n",
    "        'Frequent Buyers': frequentBuyers,\n",
    "        'Big Spendors': bigSpenders,\n",
    "        'Others': others\n",
    "    }"
   ]
  },
  {
   "cell_type": "code",
   "execution_count": null,
   "metadata": {},
   "outputs": [],
   "source": [
    "segments = rfmClusters(rfmSegmentation, 'R', 'F', 'M', 'RFM Score')\n",
    "\n",
    "for segment in segments:\n",
    "    print(f\"{segment}: {segments[segment].shape[0]}\")"
   ]
  },
  {
   "cell_type": "code",
   "execution_count": null,
   "metadata": {},
   "outputs": [],
   "source": [
    "fig = px.pie(names=segments.keys(), values=[segments[segment].shape[0] for segment in segments], title='RFM Estimated Segmentation')\n",
    "fig.show()"
   ]
  },
  {
   "cell_type": "markdown",
   "metadata": {},
   "source": [
    "#### Standardization"
   ]
  },
  {
   "cell_type": "code",
   "execution_count": null,
   "metadata": {},
   "outputs": [],
   "source": [
    "scaler = StandardScaler()\n",
    "rfmScaled = scaler.fit_transform(rfmDF[['Recency', 'Frequency', 'Monetary']])\n",
    "rfmScaled = pd.DataFrame(rfmScaled)\n",
    "rfmScaled.columns = ['Recency', 'Frequency', 'Monetary']\n",
    "rfmScaled.index = rfmDF.index\n",
    "rfmScaled.head()"
   ]
  },
  {
   "cell_type": "markdown",
   "metadata": {},
   "source": [
    "#### Normalization"
   ]
  },
  {
   "cell_type": "code",
   "execution_count": null,
   "metadata": {},
   "outputs": [],
   "source": [
    "fig = px.imshow(rfmScaled.corr(), title='Correlation Matrix of RFM Values')\n",
    "fig.show()"
   ]
  },
  {
   "cell_type": "code",
   "execution_count": null,
   "metadata": {},
   "outputs": [],
   "source": [
    "fig = ff.create_scatterplotmatrix(rfmScaled, diag='histogram', height=500, width=1200, title='Scatter Matrix before Normalization')\n",
    "fig.show()"
   ]
  },
  {
   "cell_type": "code",
   "execution_count": null,
   "metadata": {},
   "outputs": [],
   "source": [
    "rfmNorm = pd.DataFrame({\n",
    "    'Log Recency': np.log(rfmDF['Recency']+0.01),\n",
    "    'Log Frequency': np.log(rfmDF['Frequency']),\n",
    "    'Log Monetary': np.log(rfmDF['Monetary'])\n",
    "})\n",
    "rfmNorm.head()"
   ]
  },
  {
   "cell_type": "code",
   "execution_count": null,
   "metadata": {},
   "outputs": [],
   "source": [
    "fig = px.imshow(rfmNorm.corr(), title='Correlation Matrix of Normalized RFM Values')\n",
    "fig.show()"
   ]
  },
  {
   "cell_type": "code",
   "execution_count": null,
   "metadata": {},
   "outputs": [],
   "source": [
    "fig = ff.create_scatterplotmatrix(rfmNorm, diag='histogram', height=500, width=1200, title='Scatter Matrix after Normalization')\n",
    "fig.show()"
   ]
  },
  {
   "cell_type": "markdown",
   "metadata": {},
   "source": [
    "<hr>\n",
    "\n",
    "### k-Means Clustering"
   ]
  },
  {
   "cell_type": "markdown",
   "metadata": {},
   "source": [
    "#### Selecting $k$"
   ]
  },
  {
   "cell_type": "code",
   "execution_count": null,
   "metadata": {},
   "outputs": [],
   "source": [
    "dataAsMatrix = rfmNorm.to_numpy()\n",
    "kRange = list(range(2, 11))\n",
    "kData = list()\n",
    "\n",
    "for i in kRange:\n",
    "    model = KMeans(n_clusters=i, random_state=42)\n",
    "    model.fit(dataAsMatrix)\n",
    "    kData.append((model, model.inertia_/dataAsMatrix.shape[0], silhouette_score(dataAsMatrix, model.labels_)))"
   ]
  },
  {
   "cell_type": "code",
   "execution_count": null,
   "metadata": {},
   "outputs": [],
   "source": [
    "fig = make_subplots(rows=1, cols=2, subplot_titles=['Elbow Curve', 'Silhouette Scores'], x_title='Number of Clusters')\n",
    "fig.add_trace(go.Scatter(x=kRange, y=[i[1] for i in kData], name='Elbow Curve'), row=1, col=1)\n",
    "fig.add_trace(go.Scatter(x=kRange, y=[i[2] for i in kData], name='Silhouette Scores'), row=1, col=2)\n",
    "fig.update_layout(title_text='Evaluating the Number of Clusters for k-Means Clustering', yaxis_title='Distortion', yaxis2_title='Silhouette Score')\n",
    "fig.show()"
   ]
  },
  {
   "cell_type": "markdown",
   "metadata": {},
   "source": [
    "#### Applying the Model"
   ]
  },
  {
   "cell_type": "code",
   "execution_count": null,
   "metadata": {},
   "outputs": [],
   "source": [
    "model = kData[0] # 2 Clusters\n",
    "rfmDF['Cluster kMC'] = model[0].labels_.astype(str)\n",
    "rfmDF.head()"
   ]
  },
  {
   "cell_type": "code",
   "execution_count": null,
   "metadata": {},
   "outputs": [],
   "source": [
    "fig = px.scatter_3d(rfmDF, x='Recency', y='Frequency', z='Monetary', color='Cluster kMC', symbol='Cluster kMC', opacity=0.5, title='RFM-based k-Means Clusters')\n",
    "fig.show()"
   ]
  },
  {
   "cell_type": "code",
   "execution_count": null,
   "metadata": {},
   "outputs": [],
   "source": [
    "fig = make_subplots(rows=1, cols=3, x_title='Clusters')\n",
    "fig.add_trace(go.Box(x=rfmDF['Cluster kMC'], y=rfmDF['Recency'], name='Recency'), row=1, col=1)\n",
    "fig.add_trace(go.Box(x=rfmDF['Cluster kMC'], y=rfmDF['Frequency'], name='Frequency'), row=1, col=2)\n",
    "fig.add_trace(go.Box(x=rfmDF['Cluster kMC'], y=rfmDF['Monetary'], name='Monetary'), row=1, col=3)\n",
    "fig.update_layout(title_text='Clusters as per Recency, Frequency and Monetary Values', yaxis_title='Recency', yaxis2_title='Frequency', yaxis3_title='Monetary')\n",
    "fig.show()"
   ]
  },
  {
   "cell_type": "markdown",
   "metadata": {},
   "source": [
    "<hr>\n",
    "\n",
    "### Hierarchical Clustering"
   ]
  },
  {
   "cell_type": "markdown",
   "metadata": {},
   "source": [
    "#### Average Linkage"
   ]
  },
  {
   "cell_type": "code",
   "execution_count": null,
   "metadata": {},
   "outputs": [],
   "source": [
    "mergings = hierarchy.linkage(rfmScaled, method='average', metric='euclidean')"
   ]
  },
  {
   "cell_type": "code",
   "execution_count": null,
   "metadata": {},
   "outputs": [],
   "source": [
    "# # Only Use when Necessary\n",
    "# fig = ff.create_dendrogram(mergings)\n",
    "# fig.show('browser')"
   ]
  },
  {
   "cell_type": "markdown",
   "metadata": {},
   "source": [
    "#### Creating Clusters"
   ]
  },
  {
   "cell_type": "code",
   "execution_count": null,
   "metadata": {},
   "outputs": [],
   "source": [
    "clusterLabels = hierarchy.cut_tree(mergings, 10).reshape(-1,)\n",
    "rfmDF['Cluster HC'] = clusterLabels.astype(str)\n",
    "rfmDF.head()"
   ]
  },
  {
   "cell_type": "code",
   "execution_count": null,
   "metadata": {},
   "outputs": [],
   "source": [
    "fig = px.scatter_3d(rfmDF, x='Recency', y='Frequency', z='Monetary', color='Cluster HC', symbol='Cluster HC', opacity=0.5, title='RFM-based k-Means Clusters')\n",
    "fig.show()"
   ]
  },
  {
   "cell_type": "code",
   "execution_count": null,
   "metadata": {},
   "outputs": [],
   "source": [
    "fig = make_subplots(rows=1, cols=3, x_title='Clusters')\n",
    "fig.add_trace(go.Box(x=rfmDF['Cluster HC'], y=rfmDF['Recency'], name='Recency'), row=1, col=1)\n",
    "fig.add_trace(go.Box(x=rfmDF['Cluster HC'], y=rfmDF['Frequency'], name='Frequency'), row=1, col=2)\n",
    "fig.add_trace(go.Box(x=rfmDF['Cluster HC'], y=rfmDF['Monetary'], name='Monetary'), row=1, col=3)\n",
    "fig.update_layout(title_text='Clusters as per Recency, Frequency and Monetary Values', yaxis_title='Recency', yaxis2_title='Frequency', yaxis3_title='Monetary')\n",
    "fig.show()"
   ]
  },
  {
   "cell_type": "markdown",
   "metadata": {},
   "source": [
    "<hr>\n",
    "\n",
    "### k-NN Classification"
   ]
  },
  {
   "cell_type": "markdown",
   "metadata": {},
   "source": [
    "<hr>\n",
    "\n",
    "### Logistic Regression"
   ]
  },
  {
   "cell_type": "markdown",
   "metadata": {},
   "source": [
    "<hr>\n",
    "\n",
    "### BG/NBD CLV Modelling\n",
    "Beta-Geometric/Negative Binomial Distribution Customer Lifetime Value Modelling"
   ]
  },
  {
   "cell_type": "markdown",
   "metadata": {},
   "source": [
    "<hr>\n",
    "\n",
    "### Gamma-Gamma Modelling"
   ]
  },
  {
   "cell_type": "markdown",
   "metadata": {},
   "source": [
    "<hr>\n",
    "\n",
    "## Conclusion"
   ]
  },
  {
   "cell_type": "markdown",
   "metadata": {},
   "source": [
    "<hr>"
   ]
  }
 ],
 "metadata": {
  "kernelspec": {
   "display_name": "Python 3",
   "language": "python",
   "name": "python3"
  },
  "language_info": {
   "codemirror_mode": {
    "name": "ipython",
    "version": 3
   },
   "file_extension": ".py",
   "mimetype": "text/x-python",
   "name": "python",
   "nbconvert_exporter": "python",
   "pygments_lexer": "ipython3",
   "version": "3.11.1"
  }
 },
 "nbformat": 4,
 "nbformat_minor": 2
}
